{
 "cells": [
  {
   "cell_type": "markdown",
   "metadata": {
    "id": "azZFyENLZm_g"
   },
   "source": [
    "# Quick Start Guide to NumPy\n",
    "\n",
    "If you're diving into the world of machine learning (ML), understanding NumPy is essential. NumPy, a Python library, is designed for creating and manipulating matrices – the fundamental data structure in many ML algorithms. [Matrices](https://en.wikipedia.org/wiki/Matrix_(mathematics)), also known as arrays or tensors, store values in rows and columns.\n",
    "\n",
    "In Python, matrices are commonly referred to as *lists*, while NumPy prefers the term *arrays*. PyTorch and TensorFlow have their own term – *tensors*. Python uses the [list data type](https://docs.python.org/3/library/stdtypes.html#lists) to represent matrices.\n",
    "\n",
    "This tutorial serves as a quick start guide to NumPy, providing you with the necessary knowledge to embark on your journey into Machine Learning and Deep Learning. While not exhaustive, it equips you with the basics to kickstart your exploration of these exciting fields. For more in-depth information, refer to the official [NumPy documentation](https://numpy.org/doc/stable/index.html)."
   ]
  },
  {
   "cell_type": "markdown",
   "metadata": {
    "id": "Ll9RWewwFwX6"
   },
   "source": [
    "## Importing the NumPy Module\n",
    "\n",
    "Execute the code cell below to import the NumPy module:"
   ]
  },
  {
   "cell_type": "code",
   "execution_count": 1,
   "metadata": {
    "id": "guvPzSWYJGZ4"
   },
   "outputs": [],
   "source": [
    "# Importing the NumPy module with an alias 'np'\n",
    "# This allows us to refer to NumPy functions and objects using the\n",
    "# shorter name 'np' instead of the full 'numpy'\n",
    "import numpy as np"
   ]
  },
  {
   "cell_type": "markdown",
   "metadata": {
    "id": "7cT9fXS_JUpa"
   },
   "source": [
    "## Creating NumPy Arrays\n",
    "\n",
    "Utilize the `np.array` function to generate a NumPy array containing manually selected values. As an illustration, the subsequent `np.array` invocation produces an array with eight elements:"
   ]
  },
  {
   "cell_type": "code",
   "execution_count": 2,
   "metadata": {
    "id": "XxJR5xKpJbB3"
   },
   "outputs": [
    {
     "name": "stdout",
     "output_type": "stream",
     "text": [
      "[1.2 2.4 3.5 4.7 6.1 7.2 8.3 9.5]\n"
     ]
    }
   ],
   "source": [
    "# Creating a one-dimensional NumPy array using the np.array function\n",
    "# The array is initialized with specific float values enclosed in square brackets\n",
    "one_dimensional_array = np.array([1.2, 2.4, 3.5, 4.7, 6.1, 7.2, 8.3, 9.5])\n",
    "\n",
    "# Printing the contents of the created NumPy array\n",
    "print(one_dimensional_array)\n"
   ]
  },
  {
   "cell_type": "markdown",
   "metadata": {
    "id": "RKywqhLTbR1M"
   },
   "source": [
    "## Creating Two-Dimensional Arrays with `np.array`\n",
    "\n",
    "The `np.array` function can be employed to generate a two-dimensional array by introducing an additional layer of square brackets. For instance, the subsequent call produces a 3x2 array:"
   ]
  },
  {
   "cell_type": "code",
   "execution_count": 3,
   "metadata": {
    "id": "_veGj18eMCDu"
   },
   "outputs": [
    {
     "name": "stdout",
     "output_type": "stream",
     "text": [
      "[[ 6  5]\n",
      " [11  7]\n",
      " [ 4  8]]\n"
     ]
    }
   ],
   "source": [
    "# Creating a two-dimensional NumPy array using the np.array function\n",
    "# The array is initialized with nested lists representing rows and columns\n",
    "two_dimensional_array = np.array([[6, 5], [11, 7], [4, 8]])\n",
    "\n",
    "# Printing the contents of the created two-dimensional NumPy array\n",
    "print(two_dimensional_array)"
   ]
  },
  {
   "cell_type": "markdown",
   "metadata": {
    "id": "0ED7eug9CvGR"
   },
   "source": [
    "## Populating Arrays with Zeros and Ones\n",
    "\n",
    "To fill an array entirely with zeros, use the `np.zeros` function. Conversely, to populate an array with all ones, utilize the `np.ones` function."
   ]
  },
  {
   "cell_type": "code",
   "execution_count": 4,
   "metadata": {
    "id": "phaYrIRLCCkA"
   },
   "outputs": [
    {
     "name": "stdout",
     "output_type": "stream",
     "text": [
      "Zeros Array: \n",
      "[[0. 0.]\n",
      " [0. 0.]\n",
      " [0. 0.]]\n"
     ]
    }
   ],
   "source": [
    "# Defining the size of the array using a tuple (3 rows, 2 columns)\n",
    "size = (3, 2)\n",
    "\n",
    "# Creating a NumPy array filled with zeros using the np.zeros function\n",
    "zeros_array = np.zeros(size)\n",
    "\n",
    "# Printing the zeros array along with a formatted message\n",
    "print(f\"Zeros Array: \\n{zeros_array}\")"
   ]
  },
  {
   "cell_type": "code",
   "execution_count": 5,
   "metadata": {
    "id": "ZEg-GdiOCfxL"
   },
   "outputs": [
    {
     "name": "stdout",
     "output_type": "stream",
     "text": [
      "Ones Array: \n",
      "[[1. 1.]\n",
      " [1. 1.]\n",
      " [1. 1.]]\n"
     ]
    }
   ],
   "source": [
    "# Creating a NumPy array filled with ones using the np.ones function\n",
    "# The size of the array is determined by the previously defined\n",
    "# tuple (3 rows, 2 columns)\n",
    "ones_array = np.ones(size)\n",
    "\n",
    "# Printing the ones array along with a formatted message\n",
    "print(f\"Ones Array: \\n{ones_array}\")"
   ]
  },
  {
   "cell_type": "markdown",
   "metadata": {
    "id": "gEy_pdBoROu3"
   },
   "source": [
    "## Creating Arrays with Sequential Numbers\n",
    "\n",
    "Generate an array by populating it with a sequence of numbers:"
   ]
  },
  {
   "cell_type": "code",
   "execution_count": 6,
   "metadata": {
    "id": "CjHfYWhdQYtO"
   },
   "outputs": [
    {
     "name": "stdout",
     "output_type": "stream",
     "text": [
      "[ 5  6  7  8  9 10 11]\n"
     ]
    }
   ],
   "source": [
    "# Creating a NumPy array with a sequence of integers using the np.arange function\n",
    "# The sequence starts from 5 (inclusive) and ends at 12 (exclusive)\n",
    "sequence_of_integers = np.arange(5, 12)\n",
    "\n",
    "# Printing the contents of the created array\n",
    "print(sequence_of_integers)"
   ]
  },
  {
   "cell_type": "markdown",
   "metadata": {
    "id": "1x3OoWrPWn8S"
   },
   "source": [
    "## Note on `np.arange`\n",
    "\n",
    "It's important to observe that `np.arange` generates a sequence that includes the lower bound (5) but excludes the upper bound (12)."
   ]
  },
  {
   "cell_type": "markdown",
   "metadata": {
    "id": "aiqqxDBINAOY"
   },
   "source": [
    "## Generating Arrays with Random Numbers\n",
    "\n",
    "NumPy offers diverse functions for populating arrays with random numbers within specified ranges. As an illustration, `np.random.randint` produces random integers between a specified low and high value. The subsequent call demonstrates creating a 6-element array with random integers ranging from 50 to 100.\n",
    "\n",
    "\n"
   ]
  },
  {
   "cell_type": "code",
   "execution_count": 7,
   "metadata": {
    "id": "tG8ao9CsNqw8"
   },
   "outputs": [
    {
     "name": "stdout",
     "output_type": "stream",
     "text": [
      "[68 69 78 83 91 65]\n"
     ]
    }
   ],
   "source": [
    "# Generating a NumPy array with random integers using np.random.randint\n",
    "# The 'low' parameter specifies the lower bound (50), 'high' specifies the\n",
    "# upper bound (101, exclusive)\n",
    "# The 'size' parameter determines the number of elements in the array (6)\n",
    "random_integers_between_50_and_100 = np.random.randint(low=50, high=101, size=(6))\n",
    "\n",
    "# Printing the contents of the array with random integers\n",
    "print(random_integers_between_50_and_100)"
   ]
  },
  {
   "cell_type": "markdown",
   "metadata": {
    "id": "BSU7lMUcgRm3"
   },
   "source": [
    "## Important Note on `np.random.randint`\n",
    "\n",
    "It's crucial to be aware that the highest integer generated by `np.random.randint` is one less than the specified `high` argument."
   ]
  },
  {
   "cell_type": "markdown",
   "metadata": {
    "id": "lQF6-Eg0ksqE"
   },
   "source": [
    "## Generating Random Floating-Point Values\n",
    "\n",
    "If you aim to produce random floating-point values within the range of 0.0 to 1.0, use the `np.random.random` function. Here's an example:"
   ]
  },
  {
   "cell_type": "code",
   "execution_count": 8,
   "metadata": {
    "id": "6Ny0eXZPk5Ax"
   },
   "outputs": [
    {
     "name": "stdout",
     "output_type": "stream",
     "text": [
      "[0.90177485 0.63351733 0.93698489 0.40922062 0.29264066 0.58904973]\n"
     ]
    }
   ],
   "source": [
    "# Generating a NumPy array with random floating-point values using np.random.random\n",
    "# The argument [6] specifies the size of the array, in this case, a 1-dimensional\n",
    "# array with 6 elements\n",
    "random_floats_between_0_and_1 = np.random.random([6])\n",
    "\n",
    "# Printing the contents of the array with random floating-point values\n",
    "print(random_floats_between_0_and_1)"
   ]
  },
  {
   "cell_type": "markdown",
   "metadata": {
    "id": "eXOdSjRlSEf6"
   },
   "source": [
    "## Mathematical Operations with NumPy Arrays\n",
    "\n",
    "Performing addition or subtraction between two arrays in linear algebra necessitates having operands with matching dimensions. Additionally, multiplication follows strict rules regarding the compatibility of operand dimensions. Fortunately, NumPy employs a technique known as [**broadcasting**](https://developers.google.com/machine-learning/glossary/#broadcasting) to effectively extend the smaller operand to dimensions suitable for linear algebra. As an illustration, the subsequent operation showcases broadcasting by adding 2.0 to each item in the array created in the preceding code cell:"
   ]
  },
  {
   "cell_type": "code",
   "execution_count": 9,
   "metadata": {
    "id": "J5E5S0wjRvQr"
   },
   "outputs": [
    {
     "name": "stdout",
     "output_type": "stream",
     "text": [
      "[2.90177485 2.63351733 2.93698489 2.40922062 2.29264066 2.58904973]\n"
     ]
    }
   ],
   "source": [
    "# Performing a mathematical operation on a NumPy array using broadcasting\n",
    "# Adding 2.0 to every element in the 'random_floats_between_0_and_1' array\n",
    "random_floats_between_2_and_3 = random_floats_between_0_and_1 + 2.0\n",
    "\n",
    "# Printing the contents of the resulting array after the addition operation\n",
    "print(random_floats_between_2_and_3)"
   ]
  },
  {
   "cell_type": "markdown",
   "metadata": {
    "id": "x6K_poVDPpAg"
   },
   "source": [
    "## Broadcasting in Array Multiplication\n",
    "\n",
    "In the subsequent operation, broadcasting is utilized to multiply each element in an array by 3:"
   ]
  },
  {
   "cell_type": "code",
   "execution_count": 10,
   "metadata": {
    "id": "tYjvXmvFPoPB"
   },
   "outputs": [
    {
     "name": "stdout",
     "output_type": "stream",
     "text": [
      "[204 207 234 249 273 195]\n"
     ]
    }
   ],
   "source": [
    "# Performing a mathematical operation on a NumPy array using broadcasting\n",
    "# Multiplying every element in the 'random_integers_between_50_and_100' array by 3\n",
    "random_integers_between_150_and_300 = random_integers_between_50_and_100 * 3\n",
    "\n",
    "# Printing the contents of the resulting array after the multiplication operation\n",
    "print(random_integers_between_150_and_300)"
   ]
  },
  {
   "cell_type": "markdown",
   "metadata": {
    "id": "hfYVa8iQTaUL"
   },
   "source": [
    "## Example 1: Generating a Linear Dataset\n",
    "\n",
    "In this example, our objective is to construct a straightforward dataset comprising a single feature and a corresponding label, following these steps:\n",
    "\n",
    "1. Allocate a sequence of integers from 6 to 20 (inclusive) to a NumPy array named `feature`.\n",
    "2. Populate a NumPy array named `label` with 15 values based on the equation:\n",
    "\n",
    "   ```\n",
    "   label = (3)(feature) + 4\n",
    "   ```\n",
    "\n",
    "   For instance, the initial value for `label` should be calculated as:\n",
    "\n",
    "   ```\n",
    "   label = (3)(6) + 4 = 22\n",
    "   ```"
   ]
  },
  {
   "cell_type": "code",
   "execution_count": 11,
   "metadata": {
    "id": "KjtIAYvMTPGl"
   },
   "outputs": [
    {
     "name": "stdout",
     "output_type": "stream",
     "text": [
      "[ 6  7  8  9 10 11 12 13 14 15 16 17 18 19 20]\n",
      "[22 25 28 31 34 37 40 43 46 49 52 55 58 61 64]\n"
     ]
    }
   ],
   "source": [
    "# Creating a NumPy array 'feature' with a sequence of integers from\n",
    "# 6 to 20 (inclusive) using np.arange\n",
    "feature = np.arange(6, 21)\n",
    "\n",
    "# Printing the contents of the 'feature' array\n",
    "print(feature)\n",
    "\n",
    "# Creating a NumPy array 'label' by applying the linear equation (3 * feature) + 4\n",
    "label = (feature * 3) + 4\n",
    "\n",
    "# Printing the contents of the 'label' array\n",
    "print(label)"
   ]
  },
  {
   "cell_type": "markdown",
   "metadata": {
    "id": "RNsjGYRj87PB"
   },
   "source": [
    "## Example 2: Introducing Noise to the Dataset\n",
    "\n",
    "Enhance the realism of your dataset by incorporating some random noise into each element of the existing `label` array. Specifically, adjust each value assigned to `label` by adding a distinct random floating-point value within the range of -2 to +2.\n",
    "\n",
    "Avoid relying on broadcasting; instead, create a `noise` array with the same dimensions as `label`."
   ]
  },
  {
   "cell_type": "code",
   "execution_count": 12,
   "metadata": {
    "id": "7chgYKrC93np"
   },
   "outputs": [
    {
     "name": "stdout",
     "output_type": "stream",
     "text": [
      "[ 1.72585046 -0.38295165 -0.7520211   0.49260779 -1.81020396  1.94445271\n",
      " -0.25260659  0.5594518  -0.85073671  0.14252357  1.49077953  0.75943542\n",
      " -1.29923172  1.94562788 -0.13365134]\n",
      "[23.72585046 24.61704835 27.2479789  31.49260779 32.18979604 38.94445271\n",
      " 39.74739341 43.5594518  45.14926329 49.14252357 53.49077953 55.75943542\n",
      " 56.70076828 62.94562788 63.86634866]\n"
     ]
    }
   ],
   "source": [
    "# Generating a NumPy array 'noise' with random floating-point values\n",
    "# between -2 and +2\n",
    "# The size of the 'noise' array is specified as [15], matching the dimension\n",
    "# of the 'label' array\n",
    "noise = (np.random.random([15]) * 4) - 2\n",
    "\n",
    "# Printing the contents of the 'noise' array\n",
    "print(noise)\n",
    "\n",
    "# Adding the generated 'noise' array to the 'label' array, introducing variation\n",
    "# to each element\n",
    "label = label + noise\n",
    "\n",
    "# Printing the contents of the 'label' array after incorporating noise\n",
    "print(label)"
   ]
  }
 ],
 "metadata": {
  "colab": {
   "private_outputs": true,
   "provenance": []
  },
  "kernelspec": {
   "display_name": "Python 3 (ipykernel)",
   "language": "python",
   "name": "python3"
  },
  "language_info": {
   "codemirror_mode": {
    "name": "ipython",
    "version": 3
   },
   "file_extension": ".py",
   "mimetype": "text/x-python",
   "name": "python",
   "nbconvert_exporter": "python",
   "pygments_lexer": "ipython3",
   "version": "3.10.13"
  }
 },
 "nbformat": 4,
 "nbformat_minor": 4
}
